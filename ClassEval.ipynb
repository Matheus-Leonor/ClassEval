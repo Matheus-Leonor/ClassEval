{
  "cells": [
    {
      "cell_type": "markdown",
      "source": [
        "# Class Eval 📚\n",
        "**Sobre o programa** 🎲\n",
        "\n",
        "**ClassEval** é um programa criado par**a auxiliar os professores**, avaliando a nota de cada** atividade online pontuada (AOPs) + prova regular** e determinando se o aluno precisa ou não fazer recuperação.\n",
        "\n",
        "Em seguida avalia se o aluno atingiu a** soma do modulo(7) ou a média do módulo(5) necessários** para aprovação. Avaliando os critérios para aprovação, deterina se o aluno foi** aprovado ou reprovado.**\n",
        "\n",
        "Por ultímo, após o registro das notas dos alunos devolve a **porcentagem de alunos aprovados ou reprovados.**\n",
        "\n",
        "**Verificações:** 🔎\n",
        "\n",
        "Para auxiliar os professores e garantir a confiabilidade dos dados, o programa verifica se a nota inserida está dentro do padrão esperado.\n",
        "Exemplo: se a prova regular vale 6, e o usuário inserir o valor 7 ou qualquer outro valor fora do intervalo esperado o programa irá pedir que digite novamente até ter o valor esperado"
      ],
      "metadata": {
        "id": "NCK40xAQ-LoW"
      }
    },
    {
      "cell_type": "code",
      "execution_count": null,
      "metadata": {
        "colab": {
          "background_save": true,
          "base_uri": "https://localhost:8080/"
        },
        "id": "-0By76zejbhU",
        "outputId": "b2ebc489-5af2-48c3-c24b-6b1dd6fb4083"
      },
      "outputs": [
        {
          "name": "stdout",
          "output_type": "stream",
          "text": [
            "\n",
            "       <Aluno 1>\n",
            "\n",
            "Você digitou um texto, digite  um número ao invés. Tente novamente:\n",
            "\n",
            "-----  Resultado -----\n",
            " \n",
            "> Soma do módulo: 7.5\n",
            "> Média do módulo: 3.75\n",
            "> Status do Aluno 1: aprovado\n",
            "\n",
            "Total de notas avaliadas: 1 \n",
            "Aprovados: 100.0%\n",
            "\n",
            "       <Aluno 2>\n",
            "\n"
          ]
        }
      ],
      "source": [
        "import numpy as  np\n",
        "from IPython.display import clear_output\n",
        "\n",
        "lista_status_aluno= []\n",
        "\n",
        "for i in range (1,4):\n",
        "    print(\"\\n       <Aluno {0}>\\n\".format(i))\n",
        "\n",
        "    aop1 = float(input('Digite a nota da AOP1: '))\n",
        "    while aop1 < 0 or aop1 > 1:\n",
        "        try:\n",
        "            aop1 = float(input('O número precisa ser entre 0 e 1, digite novamente: '))\n",
        "        except ValueError:\n",
        "            print('Você digitou um texto, digite  um número ao invés. Tente novamente:')\n",
        "\n",
        "    aop2 = float(input('Digite a nota da AOP2: '))\n",
        "    while aop2 < 0 or aop2 > 2:\n",
        "       try:\n",
        "           aop2 = float(input('O número precisa ser entre 0 e 2, digite novamente: '))\n",
        "       except ValueError:\n",
        "           print('Você digitou um texto, digite  um número ao invés. Tente novamente:')\n",
        "\n",
        "    aop3 = float(input('Digite a nota da AOP3: '))\n",
        "    while aop3 < 0 or aop3 > 1:\n",
        "       try:\n",
        "           aop3 = float(input('O número precisa ser entre 0 e 1, digite novamente: '))\n",
        "       except ValueError:\n",
        "           print('Você digitou um texto, digite  um número ao invés. Tente novamente:')\n",
        "\n",
        "    prova_regular = float(input('Digite a nota da Prova Regular: '))\n",
        "    while prova_regular < 0 or prova_regular > 6:\n",
        "       try:\n",
        "           prova_regular = float(input('O número precisa ser entre 0 e 6, digite novamente: '))\n",
        "       except ValueError:\n",
        "           print('Você digitou um texto, digite  um número ao invés. Tente novamente:')\n",
        "\n",
        "    soma_modulo = float(aop1 + aop2 + aop3 + prova_regular)\n",
        "\n",
        "    print(\"\\n> Soma do Modulo: %s\\n\" % soma_modulo,\"\\n> Status do Aluno nº {0}: Recuperação!\".format(i)) if soma_modulo < 7 else 0\n",
        "\n",
        "    prova_recuperacao = float(input(\"\\nDigite a nota da prova de Recuperação: \")) if soma_modulo <7 else 0\n",
        "    while prova_recuperacao < 0 or prova_recuperacao > 10:\n",
        "       try:\n",
        "           prova_recuperacao = float(input('O número precisa ser entre 0 e 10, digite novamente: '))\n",
        "       except ValueError:\n",
        "           print('Você digitou um texto, digite  um número ao invés. Tente novamente:')\n",
        "\n",
        "    media_modulo = (aop1 + aop2 +  aop3 + prova_regular + prova_recuperacao)/2\n",
        "\n",
        "    if soma_modulo >= 7.0 or media_modulo>= 5.0: status_aluno = \"aprovado\"\n",
        "    else: status_aluno = \"reprovado\"\n",
        "\n",
        "    lista_status_aluno.append(status_aluno)\n",
        "\n",
        "    print(\"\\n-----  Resultado -----\\n \")\n",
        "    print(\"> Soma do módulo:\", soma_modulo)\n",
        "    print(\"> Média do módulo:\", media_modulo)\n",
        "    print(\"> Status do Aluno {0}:\" .format(i), status_aluno)\n",
        "\n",
        "    status_aluno_array = np.array(lista_status_aluno)\n",
        "    itens_unicos, frequencia = np.unique(status_aluno_array, return_counts=True)\n",
        "\n",
        "    porcentagens = (frequencia / len(status_aluno_array)) * 100\n",
        "    porcentagens_formatadas = [f\"{porcentagem:.1f}%\" for porcentagem in porcentagens]\n",
        "\n",
        "    print(\"\\nTotal de notas avaliadas: {0} \".format(i))\n",
        "\n",
        "    for status, porcentagem in zip(itens_unicos, porcentagens_formatadas):\n",
        "      if status == \"reprovado\":\n",
        "        print(f\"Reprovados: {porcentagem}\")\n",
        "      else:\n",
        "        print(f\"Aprovados: {porcentagem}\")"
      ]
    }
  ],
  "metadata": {
    "colab": {
      "provenance": []
    },
    "kernelspec": {
      "display_name": "Python 3",
      "name": "python3"
    },
    "language_info": {
      "name": "python"
    }
  },
  "nbformat": 4,
  "nbformat_minor": 0
}